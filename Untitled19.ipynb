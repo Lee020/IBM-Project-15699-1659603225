{
  "nbformat": 4,
  "nbformat_minor": 0,
  "metadata": {
    "colab": {
      "provenance": [],
      "mount_file_id": "15GwlKByRuimrEvXODZrDosz2W4uPPCyR",
      "authorship_tag": "ABX9TyPmKXikQtOgBb1QitAkTGIc",
      "include_colab_link": true
    },
    "kernelspec": {
      "name": "python3",
      "display_name": "Python 3"
    },
    "language_info": {
      "name": "python"
    },
    "accelerator": "GPU",
    "gpuClass": "standard"
  },
  "cells": [
    {
      "cell_type": "markdown",
      "metadata": {
        "id": "view-in-github",
        "colab_type": "text"
      },
      "source": [
        "<a href=\"https://colab.research.google.com/github/Lee020/IBM-Project-15699-1659603225/blob/main/Untitled19.ipynb\" target=\"_parent\"><img src=\"https://colab.research.google.com/assets/colab-badge.svg\" alt=\"Open In Colab\"/></a>"
      ]
    },
    {
      "cell_type": "code",
      "execution_count": 2,
      "metadata": {
        "colab": {
          "base_uri": "https://localhost:8080/"
        },
        "id": "5_eM3bhu6U0H",
        "outputId": "c588eb2e-127a-4c06-99e3-5feeaf95b0d1"
      },
      "outputs": [
        {
          "output_type": "stream",
          "name": "stdout",
          "text": [
            "/content/drive/MyDrive\n"
          ]
        }
      ],
      "source": [
        "cd /content/drive/MyDrive\n"
      ]
    },
    {
      "cell_type": "code",
      "source": [
        "ls\n"
      ],
      "metadata": {
        "colab": {
          "base_uri": "https://localhost:8080/"
        },
        "id": "Eg8FFKQ17DT-",
        "outputId": "c3c8ce7e-54fb-4ead-d351-1b96c7c61fd1"
      },
      "execution_count": 3,
      "outputs": [
        {
          "output_type": "stream",
          "name": "stdout",
          "text": [
            " 1614502713614.jpg\n",
            "'810419106025   leela pavan kondragunta.pdf'\n",
            " aallcertificate.pdf\n",
            " \u001b[0m\u001b[01;34marchi\u001b[0m/\n",
            " \u001b[01;34marchive\u001b[0m/\n",
            " archive.zip\n",
            "'assignment 3 CNN.ipynb'\n",
            "\u001b[01;36m'assignment 3.pptx'\u001b[0m@\n",
            "'CamScanner 09-07-2020 16.12.48.pdf'\n",
            "\u001b[01;36m'CamScanner 11-02-2020 17.11.20.pdf'\u001b[0m@\n",
            " \u001b[01;34mClassroom\u001b[0m/\n",
            " \u001b[01;34mcnn\u001b[0m/\n",
            "\u001b[01;34m'Colab Notebooks'\u001b[0m/\n",
            " drowsy.zip\n",
            " \u001b[01;34mfinal\u001b[0m/\n",
            "'innovators project.pdf'\n",
            "'intermediate certificate. pdf.pdf'\n",
            " KLEELAPAVAN_23110183104.pdf\n",
            "'leela resume.pdf'\n",
            "\u001b[01;36m'ma, assignment 2,kondragunta Leela pavan, 810419106025.pdf'\u001b[0m@\n",
            "'model deployment CNN by colab into ibmcloud.ipynb'\n",
            "'Mr.LEELA PAVAN KONDRAGUNTA -Resume.pdf'\n",
            "'NITTSD-Student-32354 (1).pdf'\n",
            " NITTSD-Student-32354.pdf\n",
            " \u001b[01;34mresized\u001b[0m/\n",
            " SQL-Cheat-Sheet.pdf\n",
            "'ssc certificate. pdf.pdf'\n",
            "'teachnook leela pavan mini project.ipynb'\n",
            " unit1.gdoc\n",
            "'UNIT-I -1'\\''s & 2'\\''s Complements.gdoc'\n",
            " Untitled\n",
            " Untitled0.ipynb\n",
            " Untitled10.ipynb\n",
            " Untitled11.ipynb\n",
            " Untitled12.ipynb\n",
            " Untitled1.ipynb\n",
            " Untitled20.ipynb\n",
            " Untitled21.ipynb\n",
            " Untitled22.ipynb\n",
            " Untitled23.ipynb\n",
            " Untitled24.ipynb\n",
            " Untitled25.ipynb\n",
            " Untitled26.ipynb\n",
            " Untitled2.ipynb\n",
            " Untitled4.ipynb\n",
            " Untitled5.ipynb\n",
            " Untitled6.ipynb\n",
            " Untitled7.ipynb\n",
            " Untitled8.ipynb\n",
            " Untitled9.ipynb\n"
          ]
        }
      ]
    },
    {
      "cell_type": "code",
      "source": [
        "from google.colab import drive\n",
        "drive.mount('/content/drive')"
      ],
      "metadata": {
        "id": "fAfYql9O6X7k"
      },
      "execution_count": null,
      "outputs": []
    },
    {
      "cell_type": "code",
      "source": [
        "!unzip /content/drive/MyDrive/archive.zip"
      ],
      "metadata": {
        "colab": {
          "base_uri": "https://localhost:8080/"
        },
        "id": "b0dJDQyS7QIM",
        "outputId": "48fa4b8a-64ce-4a52-af19-803536638947"
      },
      "execution_count": 8,
      "outputs": [
        {
          "output_type": "stream",
          "name": "stdout",
          "text": [
            "Archive:  /content/drive/MyDrive/archive.zip\n",
            "replace Indian currency dataset v1/test/100_15.jpg? [y]es, [n]o, [A]ll, [N]one, [r]ename: "
          ]
        }
      ]
    },
    {
      "cell_type": "code",
      "source": [
        "from tensorflow.keras.preprocessing.image import ImageDataGenerator"
      ],
      "metadata": {
        "id": "dhSglwba7QN9"
      },
      "execution_count": 2,
      "outputs": []
    },
    {
      "cell_type": "code",
      "source": [
        "train_datagen = ImageDataGenerator(rescale= 1./255,horizontal_flip = True,vertical_flip = True,zoom_range = 0.2) "
      ],
      "metadata": {
        "id": "lDapI6fS7QRF"
      },
      "execution_count": 3,
      "outputs": []
    },
    {
      "cell_type": "code",
      "source": [
        "test_datagen = ImageDataGenerator(rescale= 1./255)"
      ],
      "metadata": {
        "id": "P-nfiKfv7QUR"
      },
      "execution_count": 4,
      "outputs": []
    },
    {
      "cell_type": "code",
      "source": [
        "x_train = train_datagen.flow_from_directory(r\"/content/drive/MyDrive/Indian currency dataset v1/training\",target_size = (64,64),  class_mode = \"categorical\",batch_size = 24) "
      ],
      "metadata": {
        "colab": {
          "base_uri": "https://localhost:8080/"
        },
        "id": "uPqkAktc9vTs",
        "outputId": "df2eba97-391d-4f89-9a75-caba2a22caff"
      },
      "execution_count": 5,
      "outputs": [
        {
          "output_type": "stream",
          "name": "stdout",
          "text": [
            "Found 3566 images belonging to 8 classes.\n"
          ]
        }
      ]
    },
    {
      "cell_type": "code",
      "source": [
        "x_test = test_datagen.flow_from_directory(r\"/content/drive/MyDrive/Indian currency dataset v1/validation\",target_size = (64,64),   \n",
        "class_mode = \"categorical\",batch_size = 24)"
      ],
      "metadata": {
        "colab": {
          "base_uri": "https://localhost:8080/"
        },
        "id": "PSpXkZ1l9vXP",
        "outputId": "5a1350ea-669f-437a-8532-e0639b8d5f6c"
      },
      "execution_count": 6,
      "outputs": [
        {
          "output_type": "stream",
          "name": "stdout",
          "text": [
            "Found 345 images belonging to 8 classes.\n"
          ]
        }
      ]
    },
    {
      "cell_type": "code",
      "source": [
        "x_train.class_indices"
      ],
      "metadata": {
        "colab": {
          "base_uri": "https://localhost:8080/"
        },
        "id": "xt6BUdEY9vew",
        "outputId": "5a70ef83-b3fe-49f4-f5ba-42c3dfa60914"
      },
      "execution_count": 7,
      "outputs": [
        {
          "output_type": "execute_result",
          "data": {
            "text/plain": [
              "{'10': 0,\n",
              " '100': 1,\n",
              " '20': 2,\n",
              " '200': 3,\n",
              " '2000': 4,\n",
              " '50': 5,\n",
              " '500': 6,\n",
              " 'Background': 7}"
            ]
          },
          "metadata": {},
          "execution_count": 7
        }
      ]
    },
    {
      "cell_type": "code",
      "source": [
        "from tensorflow.keras.models import Sequential \n",
        "from tensorflow.keras.layers import Dense \n",
        "from tensorflow.keras.layers import Convolution2D,MaxPooling2D,Flatten"
      ],
      "metadata": {
        "id": "6E8d-btG9vhU"
      },
      "execution_count": 8,
      "outputs": []
    },
    {
      "cell_type": "code",
      "source": [
        "model=Sequential()"
      ],
      "metadata": {
        "id": "9q23_B4b9vk3"
      },
      "execution_count": 9,
      "outputs": []
    },
    {
      "cell_type": "code",
      "source": [
        "model.add(Convolution2D(32, (3,3),input_shape=(64,64,3),activation='relu',strides=(1,1))) "
      ],
      "metadata": {
        "id": "sgROlMep_DXg"
      },
      "execution_count": 10,
      "outputs": []
    },
    {
      "cell_type": "code",
      "source": [
        "model.add(MaxPooling2D(pool_size=(2,2)))"
      ],
      "metadata": {
        "id": "FShjjWSo_DaS"
      },
      "execution_count": 11,
      "outputs": []
    },
    {
      "cell_type": "code",
      "source": [
        "model.add(Flatten())"
      ],
      "metadata": {
        "id": "mF-9TE6z_DdK"
      },
      "execution_count": 12,
      "outputs": []
    },
    {
      "cell_type": "code",
      "source": [
        "model.summary() "
      ],
      "metadata": {
        "colab": {
          "base_uri": "https://localhost:8080/"
        },
        "id": "g97jNViu_DgE",
        "outputId": "8593089d-bdf5-4afb-fd2e-cce1102abd41"
      },
      "execution_count": 13,
      "outputs": [
        {
          "output_type": "stream",
          "name": "stdout",
          "text": [
            "Model: \"sequential\"\n",
            "_________________________________________________________________\n",
            " Layer (type)                Output Shape              Param #   \n",
            "=================================================================\n",
            " conv2d (Conv2D)             (None, 62, 62, 32)        896       \n",
            "                                                                 \n",
            " max_pooling2d (MaxPooling2D  (None, 31, 31, 32)       0         \n",
            " )                                                               \n",
            "                                                                 \n",
            " flatten (Flatten)           (None, 30752)             0         \n",
            "                                                                 \n",
            "=================================================================\n",
            "Total params: 896\n",
            "Trainable params: 896\n",
            "Non-trainable params: 0\n",
            "_________________________________________________________________\n"
          ]
        }
      ]
    },
    {
      "cell_type": "code",
      "source": [
        "Model: \"sequential\""
      ],
      "metadata": {
        "id": "zsh3Y3J4_DiT"
      },
      "execution_count": 14,
      "outputs": []
    },
    {
      "cell_type": "code",
      "source": [
        "model.add(Dense(30,activation='relu')) \n",
        "model.add(Dense(15,activation='relu'))"
      ],
      "metadata": {
        "id": "WBA23y-t_DmX"
      },
      "execution_count": 20,
      "outputs": []
    },
    {
      "cell_type": "code",
      "source": [
        "model.add(Dense(8,activation='softmax')) \n",
        "len(x_train)"
      ],
      "metadata": {
        "colab": {
          "base_uri": "https://localhost:8080/"
        },
        "id": "eQQcAZoN_QYF",
        "outputId": "8333d24c-b18a-495e-b1eb-8643bca7b199"
      },
      "execution_count": 21,
      "outputs": [
        {
          "output_type": "execute_result",
          "data": {
            "text/plain": [
              "149"
            ]
          },
          "metadata": {},
          "execution_count": 21
        }
      ]
    },
    {
      "cell_type": "code",
      "source": [
        "model.compile(loss='categorical_crossentropy',optimizer='adam',metrics =[\"accuracy\"]) "
      ],
      "metadata": {
        "id": "qxDpPDIw_Qa4"
      },
      "execution_count": 22,
      "outputs": []
    },
    {
      "cell_type": "code",
      "source": [
        "model.fit(x_train,steps_per_epoch=len(x_train),validation_data=x_test, validation_steps=len(x_test),epochs=10)"
      ],
      "metadata": {
        "colab": {
          "base_uri": "https://localhost:8080/"
        },
        "id": "G0ILPMFX_Qd3",
        "outputId": "5393c42c-8ffb-4a77-e28d-26ef8cc5b1f8"
      },
      "execution_count": null,
      "outputs": [
        {
          "output_type": "stream",
          "name": "stdout",
          "text": [
            "Epoch 1/10\n",
            " 38/149 [======>.......................] - ETA: 22:27 - loss: 2.0766 - accuracy: 0.1469"
          ]
        }
      ]
    },
    {
      "cell_type": "code",
      "source": [
        "\n",
        "model.save('fruit.h5')"
      ],
      "metadata": {
        "id": "83bPkz8m_QgZ"
      },
      "execution_count": null,
      "outputs": []
    },
    {
      "cell_type": "code",
      "source": [
        "model.summary()"
      ],
      "metadata": {
        "id": "UELKCCM2_QjM"
      },
      "execution_count": null,
      "outputs": []
    },
    {
      "cell_type": "code",
      "source": [],
      "metadata": {
        "id": "FMsSHmNK_Qmm"
      },
      "execution_count": null,
      "outputs": []
    },
    {
      "cell_type": "code",
      "source": [],
      "metadata": {
        "id": "fJQG9fCV_QtI"
      },
      "execution_count": null,
      "outputs": []
    }
  ]
}